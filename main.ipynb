{
  "nbformat": 4,
  "nbformat_minor": 0,
  "metadata": {
    "colab": {
      "provenance": [],
      "authorship_tag": "ABX9TyNFCkzKJ5XRfCt+wsoQWo8s",
      "include_colab_link": true
    },
    "kernelspec": {
      "name": "python3",
      "display_name": "Python 3"
    },
    "language_info": {
      "name": "python"
    }
  },
  "cells": [
    {
      "cell_type": "markdown",
      "metadata": {
        "id": "view-in-github",
        "colab_type": "text"
      },
      "source": [
        "<a href=\"https://colab.research.google.com/github/aboagyeoswald13/frodo-bagins/blob/main/main.ipynb\" target=\"_parent\"><img src=\"https://colab.research.google.com/assets/colab-badge.svg\" alt=\"Open In Colab\"/></a>"
      ]
    },
    {
      "cell_type": "code",
      "source": [
        "!python3 main.py"
      ],
      "metadata": {
        "colab": {
          "base_uri": "https://localhost:8080/"
        },
        "id": "mNt8OpcaDjpB",
        "outputId": "ee40e9cd-e406-4b72-b832-c926556925ed"
      },
      "execution_count": 9,
      "outputs": [
        {
          "output_type": "stream",
          "name": "stdout",
          "text": [
            "\n",
            "Logistic Regression Classification Report:\n",
            "              precision    recall  f1-score   support\n",
            "\n",
            "           0       0.74      0.81      0.78      1042\n",
            "           1       0.75      0.66      0.70       866\n",
            "\n",
            "    accuracy                           0.75      1908\n",
            "   macro avg       0.75      0.74      0.74      1908\n",
            "weighted avg       0.75      0.75      0.74      1908\n",
            "\n",
            "\n",
            "Decision Tree Classification Report:\n",
            "              precision    recall  f1-score   support\n",
            "\n",
            "           0       0.85      0.84      0.84      1042\n",
            "           1       0.81      0.82      0.81       866\n",
            "\n",
            "    accuracy                           0.83      1908\n",
            "   macro avg       0.83      0.83      0.83      1908\n",
            "weighted avg       0.83      0.83      0.83      1908\n",
            "\n",
            "\n",
            "Random Forest Classification Report:\n",
            "              precision    recall  f1-score   support\n",
            "\n",
            "           0       0.84      1.00      0.91      1042\n",
            "           1       1.00      0.78      0.87       866\n",
            "\n",
            "    accuracy                           0.90      1908\n",
            "   macro avg       0.92      0.89      0.89      1908\n",
            "weighted avg       0.91      0.90      0.89      1908\n",
            "\n"
          ]
        }
      ]
    }
  ]
}